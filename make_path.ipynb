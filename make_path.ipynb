{
 "cells": [
  {
   "cell_type": "code",
   "execution_count": 2,
   "metadata": {},
   "outputs": [],
   "source": [
    "from svg.path import parse_path\n",
    "from xml.dom import minidom\n",
    "\n",
    "def get_point_at(path, distance, scale, offset):\n",
    "    pos = path.point(distance)\n",
    "    pos += offset\n",
    "    pos *= scale\n",
    "    return pos.real, pos.imag\n",
    "\n",
    "\n",
    "def points_from_path(path, density, scale, offset):\n",
    "    step = int(path.length() * density)\n",
    "    last_step = step - 1\n",
    "\n",
    "    if last_step == 0:\n",
    "        yield get_point_at(path, 0, scale, offset)\n",
    "        return\n",
    "\n",
    "    for distance in range(step):\n",
    "        yield get_point_at(\n",
    "            path, distance / last_step, scale, offset)\n",
    "\n",
    "\n",
    "def points_from_doc(doc, density=5, scale=1, offset=0):\n",
    "    offset = offset[0] + offset[1] * 1j\n",
    "    points = []\n",
    "    for element in doc.getElementsByTagName(\"path\"):\n",
    "        for path in parse_path(element.getAttribute(\"d\")):\n",
    "            points.extend(points_from_path(\n",
    "                path, density, scale, offset))\n",
    "\n",
    "    return points"
   ]
  },
  {
   "cell_type": "code",
   "execution_count": 3,
   "metadata": {},
   "outputs": [],
   "source": [
    "with open(\"input/me.svg\", \"r\") as file:\n",
    "    string = file.read()\n",
    "\n",
    "doc = minidom.parseString(string)\n",
    "points = points_from_doc(doc, density=1, scale=5, offset=(0, 5))\n",
    "doc.unlink()"
   ]
  },
  {
   "cell_type": "code",
   "execution_count": 4,
   "metadata": {},
   "outputs": [],
   "source": [
    "import pandas as pd\n",
    "import numpy as np\n",
    "\n",
    "a = np.array(points)\n",
    "a = a[:, 0] - a[:, 1]*1j\n",
    "\n",
    "np.save(\"input/path.npy\", a)"
   ]
  },
  {
   "cell_type": "code",
   "execution_count": null,
   "metadata": {},
   "outputs": [],
   "source": []
  }
 ],
 "metadata": {
  "kernelspec": {
   "display_name": "Python 3",
   "language": "python",
   "name": "python3"
  },
  "language_info": {
   "codemirror_mode": {
    "name": "ipython",
    "version": 3
   },
   "file_extension": ".py",
   "mimetype": "text/x-python",
   "name": "python",
   "nbconvert_exporter": "python",
   "pygments_lexer": "ipython3",
   "version": "3.11.9"
  }
 },
 "nbformat": 4,
 "nbformat_minor": 2
}
